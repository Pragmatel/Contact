{
 "cells": [
  {
   "cell_type": "code",
   "execution_count": 4,
   "metadata": {},
   "outputs": [
    {
     "name": "stdout",
     "output_type": "stream",
     "text": [
      "                            Nom de l'association          Secteur  \\\n",
      "0                                            NaN              NaN   \n",
      "1                            ACMG CLIMATOLOGIQUE         SERVICES   \n",
      "2                          AMICALE LAIQUE DE BOE  CULTURE/LOISIRS   \n",
      "3           ANCIENS COMBATTANTS BOÉ/BON-ENCONTRE     ANCIENS COMB   \n",
      "4                 APE ECOLES ML CHRETIEN/JMOULIN         SCOLAIRE   \n",
      "5                   APE ECOLES D LAPEYRE/R MUZAS         SCOLAIRE   \n",
      "6                                 ARCHERS DE BOE           SPORTS   \n",
      "7             ARCHERS DE BOE EMPLOI SPORTIF 2020           SPORTS   \n",
      "8             ARCHERS DE BOE EMPLOI SPORTIF 2019           SPORTS   \n",
      "9                                           ARPA       SOLIDARITÉ   \n",
      "10            ASSOCIATION MAIRES ALPES MARITIMES       SOLIDARITÉ   \n",
      "11                   ASSO SPORTIVE ET CULTURELLE  CULTURE/LOISIRS   \n",
      "12                   ATELIER PLAISIR ET CREATION          LOISIRS   \n",
      "13                         BARRAGE DE BEAUREGARD    ENVIRONNEMENT   \n",
      "14                       BATTERIE FANFARE D'AGEN  CULTURE/LOISIRS   \n",
      "15                                BOE RANDONNEES           SPORTS   \n",
      "16                                    BOE TENNIS           SPORTS   \n",
      "17               COMITE DES FETES DE BOE VILLAGE          LOISIRS   \n",
      "18  COMITE DES FETES DE BOE VILLAGE (RÉGUL 2019)          LOISIRS   \n",
      "19                       COS DES FONCTIONNAIRES        SOLIDARITÉ   \n",
      "20                       DONNEURS DE SANG DE BOE       SOLIDARITÉ   \n",
      "21                                          EBBE           SPORTS   \n",
      "22                                         ES2BE           SPORTS   \n",
      "23                     ES2BE EMPLOI SPORTIF 2020           SPORTS   \n",
      "24                     ES2BE EMPLOI SPORTIF 2019           SPORTS   \n",
      "25                                   EXPRESSIONS          CULTURE   \n",
      "26                 GYMNASTIQUE VOLONTAIRE DE BOE           SPORTS   \n",
      "27                            JOIES DE L'AUTOMNE            AINÉS   \n",
      "28                              JUDO CLUB DE BOE           SPORTS   \n",
      "29                           LES DEMOIZ L TROPHY       SOLIDARITÉ   \n",
      "30                           METAIRIE L'ESCURIAL          LOISIRS   \n",
      "31                                   MUSIQUENVIE          CULTURE   \n",
      "32                     OLYMPIC DOJANG BOE LAYRAC           SPORTS   \n",
      "33                                  PEINDR A BOE          LOISIRS   \n",
      "34                       PERSONNELS VILLE DE BOE          LOISIRS   \n",
      "35                           PREVENTION ROUTIERE         SÉCURITÉ   \n",
      "36                          RESTAURANTS DU COEUR       SOLIDARITÉ   \n",
      "37                    SECOURS POPULAIRE FRANCAIS       SOLIDARITÉ   \n",
      "38                             SOCIETE DE CHASSE          LOISIRS   \n",
      "\n",
      "   Montant subvention  Unnamed: 3  \n",
      "0                 NaN         NaN  \n",
      "1                 150         NaN  \n",
      "2                 900         NaN  \n",
      "3                 100         NaN  \n",
      "4                 600         NaN  \n",
      "5                 400         NaN  \n",
      "6               5,400         NaN  \n",
      "7               4,800         NaN  \n",
      "8               4,800         NaN  \n",
      "9                 150         NaN  \n",
      "10              1,000         NaN  \n",
      "11              1,200         NaN  \n",
      "12                250         NaN  \n",
      "13                300         NaN  \n",
      "14                400         NaN  \n",
      "15                500         NaN  \n",
      "16              1,000         NaN  \n",
      "17              1,600         NaN  \n",
      "18              1,600         NaN  \n",
      "19             19,332         NaN  \n",
      "20                600         NaN  \n",
      "21             28,000         NaN  \n",
      "22             15,000         NaN  \n",
      "23              4,800         NaN  \n",
      "24              1,140         NaN  \n",
      "25                350         NaN  \n",
      "26              1,000         NaN  \n",
      "27                500         NaN  \n",
      "28              2,800         NaN  \n",
      "29                200         NaN  \n",
      "30                900         NaN  \n",
      "31             11,949         NaN  \n",
      "32              4,600         NaN  \n",
      "33                150         NaN  \n",
      "34                550         NaN  \n",
      "35                150         NaN  \n",
      "36              1,200         NaN  \n",
      "37              1,200         NaN  \n",
      "38                540         NaN  \n"
     ]
    }
   ],
   "source": [
    "import pandas as pd\n",
    "\n",
    "data = pd.read_csv(\"subvention.csv\")\n",
    "\n",
    "print(data)"
   ]
  },
  {
   "attachments": {},
   "cell_type": "markdown",
   "metadata": {},
   "source": [
    "Dict to DataFrame"
   ]
  },
  {
   "cell_type": "code",
   "execution_count": 6,
   "metadata": {},
   "outputs": [
    {
     "name": "stdout",
     "output_type": "stream",
     "text": [
      "{\"Nom de l'association\": {0: nan, 1: 'ACMG CLIMATOLOGIQUE', 2: 'AMICALE LAIQUE DE BOE', 3: 'ANCIENS COMBATTANTS BOÉ/BON-ENCONTRE', 4: 'APE ECOLES ML CHRETIEN/JMOULIN', 5: 'APE ECOLES D LAPEYRE/R MUZAS', 6: 'ARCHERS DE BOE', 7: 'ARCHERS DE BOE EMPLOI SPORTIF 2020', 8: 'ARCHERS DE BOE EMPLOI SPORTIF 2019', 9: 'ARPA', 10: 'ASSOCIATION MAIRES ALPES MARITIMES', 11: 'ASSO SPORTIVE ET CULTURELLE', 12: 'ATELIER PLAISIR ET CREATION', 13: 'BARRAGE DE BEAUREGARD', 14: \"BATTERIE FANFARE D'AGEN\", 15: 'BOE RANDONNEES', 16: 'BOE TENNIS', 17: 'COMITE DES FETES DE BOE VILLAGE', 18: 'COMITE DES FETES DE BOE VILLAGE (RÉGUL 2019)', 19: 'COS DES FONCTIONNAIRES ', 20: 'DONNEURS DE SANG DE BOE', 21: 'EBBE', 22: 'ES2BE', 23: 'ES2BE EMPLOI SPORTIF 2020', 24: 'ES2BE EMPLOI SPORTIF 2019', 25: 'EXPRESSIONS', 26: 'GYMNASTIQUE VOLONTAIRE DE BOE', 27: \"JOIES DE L'AUTOMNE\", 28: 'JUDO CLUB DE BOE', 29: 'LES DEMOIZ L TROPHY', 30: \"METAIRIE L'ESCURIAL\", 31: 'MUSIQUENVIE', 32: 'OLYMPIC DOJANG BOE LAYRAC', 33: 'PEINDR A BOE', 34: 'PERSONNELS VILLE DE BOE', 35: 'PREVENTION ROUTIERE', 36: 'RESTAURANTS DU COEUR', 37: 'SECOURS POPULAIRE FRANCAIS', 38: 'SOCIETE DE CHASSE'}, 'Secteur': {0: nan, 1: 'SERVICES', 2: 'CULTURE/LOISIRS', 3: 'ANCIENS COMB', 4: 'SCOLAIRE', 5: 'SCOLAIRE', 6: 'SPORTS', 7: 'SPORTS', 8: 'SPORTS', 9: 'SOLIDARITÉ', 10: 'SOLIDARITÉ', 11: 'CULTURE/LOISIRS', 12: 'LOISIRS', 13: 'ENVIRONNEMENT', 14: 'CULTURE/LOISIRS', 15: 'SPORTS', 16: 'SPORTS', 17: 'LOISIRS', 18: 'LOISIRS', 19: 'SOLIDARITÉ', 20: 'SOLIDARITÉ', 21: 'SPORTS', 22: 'SPORTS', 23: 'SPORTS', 24: 'SPORTS', 25: 'CULTURE', 26: 'SPORTS', 27: 'AINÉS', 28: 'SPORTS', 29: 'SOLIDARITÉ', 30: 'LOISIRS', 31: 'CULTURE', 32: 'SPORTS', 33: 'LOISIRS', 34: 'LOISIRS', 35: 'SÉCURITÉ', 36: 'SOLIDARITÉ', 37: 'SOLIDARITÉ', 38: 'LOISIRS'}, 'Montant subvention': {0: nan, 1: '150', 2: '900', 3: '100', 4: '600', 5: '400', 6: '5,400', 7: '4,800', 8: '4,800', 9: '150', 10: '1,000', 11: '1,200', 12: '250', 13: '300', 14: '400', 15: '500', 16: '1,000', 17: '1,600', 18: '1,600', 19: '19,332', 20: '600', 21: '28,000', 22: '15,000', 23: '4,800', 24: '1,140', 25: '350', 26: '1,000', 27: '500', 28: '2,800', 29: '200', 30: '900', 31: '11,949', 32: '4,600', 33: '150', 34: '550', 35: '150', 36: '1,200', 37: '1,200', 38: '540'}, 'Unnamed: 3': {0: nan, 1: nan, 2: nan, 3: nan, 4: nan, 5: nan, 6: nan, 7: nan, 8: nan, 9: nan, 10: nan, 11: nan, 12: nan, 13: nan, 14: nan, 15: nan, 16: nan, 17: nan, 18: nan, 19: nan, 20: nan, 21: nan, 22: nan, 23: nan, 24: nan, 25: nan, 26: nan, 27: nan, 28: nan, 29: nan, 30: nan, 31: nan, 32: nan, 33: nan, 34: nan, 35: nan, 36: nan, 37: nan, 38: nan}}\n"
     ]
    }
   ],
   "source": [
    "data = pd.read_csv(\"subvention.csv\")\n",
    "\n",
    "data_dict = data.to_dict('dict')\n",
    "\n",
    "print(data_dict)"
   ]
  },
  {
   "attachments": {},
   "cell_type": "markdown",
   "metadata": {},
   "source": [
    "Dataframe to Csv"
   ]
  },
  {
   "cell_type": "code",
   "execution_count": 11,
   "metadata": {},
   "outputs": [],
   "source": [
    "df = pd.DataFrame({'Michel': [1, 2, 3], 'Patrick': [4, 5, 6]})\n",
    "\n",
    "df.to_csv('subvention.csv', mode='a')\n",
    "\n",
    "df.loc[5] = [7, 8]\n",
    "\n",
    "df.to_csv('subvention.csv', mode='a', header=False)"
   ]
  },
  {
   "cell_type": "code",
   "execution_count": 13,
   "metadata": {},
   "outputs": [],
   "source": [
    "df.to_csv('subvention.csv', index=False)"
   ]
  }
 ],
 "metadata": {
  "kernelspec": {
   "display_name": "Python 3",
   "language": "python",
   "name": "python3"
  },
  "language_info": {
   "codemirror_mode": {
    "name": "ipython",
    "version": 3
   },
   "file_extension": ".py",
   "mimetype": "text/x-python",
   "name": "python",
   "nbconvert_exporter": "python",
   "pygments_lexer": "ipython3",
   "version": "3.11.1 (tags/v3.11.1:a7a450f, Dec  6 2022, 19:58:39) [MSC v.1934 64 bit (AMD64)]"
  },
  "orig_nbformat": 4,
  "vscode": {
   "interpreter": {
    "hash": "2076f277bdad30b6b455478fd87cd2d4c291a12499c32d7fbc611aa5cce4c641"
   }
  }
 },
 "nbformat": 4,
 "nbformat_minor": 2
}
