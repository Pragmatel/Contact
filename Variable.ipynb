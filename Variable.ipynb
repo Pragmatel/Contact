{
 "cells": [
  {
   "attachments": {},
   "cell_type": "markdown",
   "metadata": {},
   "source": [
    "# Variable"
   ]
  },
  {
   "cell_type": "code",
   "execution_count": 122,
   "metadata": {},
   "outputs": [
    {
     "name": "stdout",
     "output_type": "stream",
     "text": [
      "   2023-01-25 16:41:11.116503\n"
     ]
    }
   ],
   "source": [
    "\n",
    "from datetime import datetime\n",
    "\n",
    "x=input('Enter your first name')\n",
    "y=input('Enter your last name')\n",
    "z=input('Enter your phone number')\n",
    "d=datetime.today()\n",
    "print(x,y,z,d)"
   ]
  },
  {
   "attachments": {},
   "cell_type": "markdown",
   "metadata": {},
   "source": [
    "# Fonction"
   ]
  },
  {
   "cell_type": "code",
   "execution_count": 123,
   "metadata": {},
   "outputs": [
    {
     "name": "stdout",
     "output_type": "stream",
     "text": [
      "\n",
      "\n",
      "\n",
      "2023-01-25\n"
     ]
    }
   ],
   "source": [
    "\n",
    "from datetime import date\n",
    "\n",
    "def create_contact():\n",
    "\n",
    "    first_name = input('Enter your first name')\n",
    "    last_name = input('Enter your last name')\n",
    "    phone = input('Enter your phone number')\n",
    "    dat = date.today()\n",
    "\n",
    "    contact = {}\n",
    "    contact['first_name'] = first_name\n",
    "    contact['last_name'] = last_name\n",
    "    contact['phone_numb'] = phone\n",
    "    contact['date'] = dat\n",
    "\n",
    "    return contact\n",
    "    \n",
    "def show_contact(contact) :\n",
    "    print(contact['first_name'])\n",
    "    print(contact['last_name'])\n",
    "    print(contact['phone_numb'])\n",
    "    print(contact['date'])\n",
    "\n",
    "show_contact(create_contact())"
   ]
  },
  {
   "attachments": {},
   "cell_type": "markdown",
   "metadata": {},
   "source": [
    "# Class"
   ]
  },
  {
   "cell_type": "code",
   "execution_count": 124,
   "metadata": {},
   "outputs": [
    {
     "data": {
      "text/plain": [
       "type"
      ]
     },
     "execution_count": 124,
     "metadata": {},
     "output_type": "execute_result"
    }
   ],
   "source": [
    "my_variable = str\n",
    "\n",
    "type(my_variable)"
   ]
  },
  {
   "cell_type": "code",
   "execution_count": null,
   "metadata": {},
   "outputs": [],
   "source": [
    "my_variable.__doc__"
   ]
  },
  {
   "cell_type": "code",
   "execution_count": null,
   "metadata": {},
   "outputs": [
    {
     "name": "stdout",
     "output_type": "stream",
     "text": [
      "None\n"
     ]
    }
   ],
   "source": [
    "def my_function():\n",
    "    \"\"\"\n",
    "    My documentation\n",
    "    \"\"\"\n",
    "    return None\n",
    "\n",
    "new_variable = my_function()\n",
    "print(new_variable.__doc__)"
   ]
  },
  {
   "cell_type": "code",
   "execution_count": 144,
   "metadata": {},
   "outputs": [],
   "source": [
    "\n",
    "class Contact(object):\n",
    "    def __init__(self, first_name, last_name, phone):\n",
    "        self.first_name = first_name\n",
    "        self.last_name = last_name\n",
    "        self.phone = phone\n",
    "        self.date = date.today()\n",
    "\n",
    "    def afficher(self):\n",
    "        print(self.first_name)\n",
    "        print(self.last_name)\n",
    "        print(self.phone)\n",
    "        print(self.date)\n",
    "        \n",
    "    def modif_phone_numb(self ,phone) :\n",
    "        self.phone = phone\n",
    "        self.updatedate = date.today()"
   ]
  },
  {
   "cell_type": "code",
   "execution_count": 148,
   "metadata": {},
   "outputs": [
    {
     "name": "stdout",
     "output_type": "stream",
     "text": [
      "Etienne\n",
      "Barberi\n",
      "0447246556\n",
      "2023-01-25\n",
      "0638475656\n"
     ]
    }
   ],
   "source": [
    "user = Contact(\"Etienne\", \"Barberi\", \"0447246556\")\n",
    "user.afficher()\n",
    "user.modif_phone_numb(\"0638475656\")\n",
    "print(user.phone)"
   ]
  }
 ],
 "metadata": {
  "kernelspec": {
   "display_name": "Python 3",
   "language": "python",
   "name": "python3"
  },
  "language_info": {
   "name": "python",
   "version": "3.11.1 (tags/v3.11.1:a7a450f, Dec  6 2022, 19:58:39) [MSC v.1934 64 bit (AMD64)]"
  },
  "orig_nbformat": 4,
  "vscode": {
   "interpreter": {
    "hash": "2076f277bdad30b6b455478fd87cd2d4c291a12499c32d7fbc611aa5cce4c641"
   }
  }
 },
 "nbformat": 4,
 "nbformat_minor": 2
}
