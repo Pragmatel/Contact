{
 "cells": [
  {
   "cell_type": "code",
   "execution_count": null,
   "metadata": {},
   "outputs": [],
   "source": [
    "'Variable'\n",
    "\n",
    "from datetime import datetime\n",
    "\n",
    "x=input('Enter your first name')\n",
    "y=input('Enter your last name')\n",
    "z=input('Enter your phone number')\n",
    "d=datetime.today()\n",
    "print(x,y,z,d)"
   ]
  },
  {
   "cell_type": "code",
   "execution_count": 67,
   "metadata": {},
   "outputs": [
    {
     "name": "stdout",
     "output_type": "stream",
     "text": [
      "e\n",
      "b\n",
      "c\n",
      "2023-01-25\n"
     ]
    }
   ],
   "source": [
    "'Fonction'\n",
    "\n",
    "def create_contact():\n",
    "\n",
    "    from datetime import date\n",
    "\n",
    "    first_name = input('Enter your first name')\n",
    "    last_name = input('Enter your last name')\n",
    "    phone = input('Enter your phone number')\n",
    "    dat = date.today()\n",
    "\n",
    "    contact = {}\n",
    "    contact['first_name'] = first_name\n",
    "    contact['last_name'] = last_name\n",
    "    contact['phone_numb'] = phone\n",
    "    contact['date'] = dat\n",
    "\n",
    "    return contact\n",
    "    \n",
    "def show_contact(contact) :\n",
    "    print(contact['first_name'])\n",
    "    print(contact['last_name'])\n",
    "    print(contact['phone_numb'])\n",
    "    print(contact['date'])\n",
    "\n",
    "show_contact(create_contact())"
   ]
  }
 ],
 "metadata": {
  "kernelspec": {
   "display_name": "Python 3",
   "language": "python",
   "name": "python3"
  },
  "language_info": {
   "name": "python",
   "version": "3.11.1 (tags/v3.11.1:a7a450f, Dec  6 2022, 19:58:39) [MSC v.1934 64 bit (AMD64)]"
  },
  "orig_nbformat": 4,
  "vscode": {
   "interpreter": {
    "hash": "2076f277bdad30b6b455478fd87cd2d4c291a12499c32d7fbc611aa5cce4c641"
   }
  }
 },
 "nbformat": 4,
 "nbformat_minor": 2
}
