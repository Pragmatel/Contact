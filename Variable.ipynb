{
 "cells": [
  {
   "cell_type": "code",
   "execution_count": null,
   "metadata": {},
   "outputs": [],
   "source": [
    "from datetime import datetime\n",
    "\n",
    "x=input('Enter your first name')\n",
    "y=input('Enter your last name')\n",
    "z=input('Enter your phone number')\n",
    "d=datetime.today()\n",
    "print(x,y,z,d)"
   ]
  }
 ],
 "metadata": {
  "kernelspec": {
   "display_name": "Python 3",
   "language": "python",
   "name": "python3"
  },
  "language_info": {
   "name": "python",
   "version": "3.11.1 (tags/v3.11.1:a7a450f, Dec  6 2022, 19:58:39) [MSC v.1934 64 bit (AMD64)]"
  },
  "orig_nbformat": 4,
  "vscode": {
   "interpreter": {
    "hash": "2076f277bdad30b6b455478fd87cd2d4c291a12499c32d7fbc611aa5cce4c641"
   }
  }
 },
 "nbformat": 4,
 "nbformat_minor": 2
}
