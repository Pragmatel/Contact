{
 "cells": [
  {
   "cell_type": "code",
   "execution_count": 5,
   "metadata": {},
   "outputs": [
    {
     "ename": "AttributeError",
     "evalue": "module 'datetime' has no attribute 'zone'",
     "output_type": "error",
     "traceback": [
      "\u001b[1;31m---------------------------------------------------------------------------\u001b[0m",
      "\u001b[1;31mAttributeError\u001b[0m                            Traceback (most recent call last)",
      "Cell \u001b[1;32mIn[5], line 6\u001b[0m\n\u001b[0;32m      4\u001b[0m y\u001b[39m=\u001b[39m\u001b[39minput\u001b[39m(\u001b[39m'\u001b[39m\u001b[39mEnter your last name\u001b[39m\u001b[39m'\u001b[39m)\n\u001b[0;32m      5\u001b[0m z\u001b[39m=\u001b[39m\u001b[39minput\u001b[39m(\u001b[39m'\u001b[39m\u001b[39mEnter your phone number\u001b[39m\u001b[39m'\u001b[39m)\n\u001b[1;32m----> 6\u001b[0m datetime\u001b[39m.\u001b[39;49mzone\u001b[39m.\u001b[39mutc()\n\u001b[0;32m      7\u001b[0m \u001b[39mprint\u001b[39m(x,y,z,datetime)\n",
      "\u001b[1;31mAttributeError\u001b[0m: module 'datetime' has no attribute 'zone'"
     ]
    }
   ],
   "source": [
    "import datetime\n",
    "\n",
    "x=input('Enter your first name')\n",
    "y=input('Enter your last name')\n",
    "z=input('Enter your phone number')\n",
    "datetime.zone.utc()\n",
    "print(x,y,z,datetime)\n"
   ]
  }
 ],
 "metadata": {
  "kernelspec": {
   "display_name": "Python 3",
   "language": "python",
   "name": "python3"
  },
  "language_info": {
   "codemirror_mode": {
    "name": "ipython",
    "version": 3
   },
   "file_extension": ".py",
   "mimetype": "text/x-python",
   "name": "python",
   "nbconvert_exporter": "python",
   "pygments_lexer": "ipython3",
   "version": "3.11.1"
  },
  "orig_nbformat": 4,
  "vscode": {
   "interpreter": {
    "hash": "2076f277bdad30b6b455478fd87cd2d4c291a12499c32d7fbc611aa5cce4c641"
   }
  }
 },
 "nbformat": 4,
 "nbformat_minor": 2
}
